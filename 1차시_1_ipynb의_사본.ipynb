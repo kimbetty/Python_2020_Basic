{
  "nbformat": 4,
  "nbformat_minor": 0,
  "metadata": {
    "colab": {
      "name": "1차시_1.ipynb의 사본",
      "provenance": [],
      "collapsed_sections": [],
      "toc_visible": true,
      "authorship_tag": "ABX9TyOMXMHR3WLrb4oFIUh+Cyuk",
      "include_colab_link": true
    },
    "kernelspec": {
      "name": "python3",
      "display_name": "Python 3"
    }
  },
  "cells": [
    {
      "cell_type": "markdown",
      "metadata": {
        "id": "view-in-github",
        "colab_type": "text"
      },
      "source": [
        "<a href=\"https://colab.research.google.com/github/kimbetty/Python_2020_Basic/blob/master/1%EC%B0%A8%EC%8B%9C_1_ipynb%EC%9D%98_%EC%82%AC%EB%B3%B8.ipynb\" target=\"_parent\"><img src=\"https://colab.research.google.com/assets/colab-badge.svg\" alt=\"Open In Colab\"/></a>"
      ]
    },
    {
      "cell_type": "markdown",
      "metadata": {
        "id": "cGdwkDhUz-Qm",
        "colab_type": "text"
      },
      "source": [
        "# **3학년 응용프로그래밍**\n",
        "\n",
        "# **[학습목표]**\n",
        "---\n",
        "\n",
        "1. Python 개발환경을 설정하고 설명할 수 있다.  \n",
        "2. 출력문과 데이터 타입을 설명할 수 있다.\n",
        "\n",
        "---\n",
        "\n",
        "\n"
      ]
    },
    {
      "cell_type": "markdown",
      "metadata": {
        "id": "1BnzWeBkUfau",
        "colab_type": "text"
      },
      "source": [
        "1. 출력"
      ]
    },
    {
      "cell_type": "code",
      "metadata": {
        "id": "u-ojp_7MTVdX",
        "colab_type": "code",
        "outputId": "15ba4698-31d0-45e7-8911-ac3c3dc12f44",
        "colab": {
          "base_uri": "https://localhost:8080/",
          "height": 35
        }
      },
      "source": [
        "a = 1\n",
        "b = 3.5\n",
        "a\n",
        "b"
      ],
      "execution_count": 1,
      "outputs": [
        {
          "output_type": "execute_result",
          "data": {
            "text/plain": [
              "3.5"
            ]
          },
          "metadata": {
            "tags": []
          },
          "execution_count": 1
        }
      ]
    },
    {
      "cell_type": "code",
      "metadata": {
        "id": "sxCLPlavT3id",
        "colab_type": "code",
        "outputId": "919fe736-47a3-4961-eaba-d847a63eef96",
        "colab": {
          "base_uri": "https://localhost:8080/",
          "height": 88
        }
      },
      "source": [
        "print(a, b)\n",
        "print(3, 4)\n",
        "print(a+b)\n",
        "print('Hello Python ' *3)"
      ],
      "execution_count": 2,
      "outputs": [
        {
          "output_type": "stream",
          "text": [
            "1 3.5\n",
            "3 4\n",
            "4.5\n",
            "Hello Python Hello Python Hello Python \n"
          ],
          "name": "stdout"
        }
      ]
    },
    {
      "cell_type": "markdown",
      "metadata": {
        "id": "ldttJHeUUt2P",
        "colab_type": "text"
      },
      "source": [
        "2. 데이터 타입 알아보기"
      ]
    },
    {
      "cell_type": "code",
      "metadata": {
        "id": "JkboWV8AUARn",
        "colab_type": "code",
        "colab": {}
      },
      "source": [
        "c=type(a)\n",
        "d=type(b)"
      ],
      "execution_count": 0,
      "outputs": []
    },
    {
      "cell_type": "code",
      "metadata": {
        "id": "666XmtKoU6k0",
        "colab_type": "code",
        "outputId": "f5f072ad-c11b-4f29-da6e-4146cf764f3a",
        "colab": {
          "base_uri": "https://localhost:8080/",
          "height": 35
        }
      },
      "source": [
        "print(c, d)"
      ],
      "execution_count": 4,
      "outputs": [
        {
          "output_type": "stream",
          "text": [
            "<class 'int'> <class 'float'>\n"
          ],
          "name": "stdout"
        }
      ]
    },
    {
      "cell_type": "code",
      "metadata": {
        "id": "vSP9rAZ0VKkh",
        "colab_type": "code",
        "outputId": "6345a6bf-46f7-44ad-d243-773aff4231e8",
        "colab": {
          "base_uri": "https://localhost:8080/",
          "height": 106
        }
      },
      "source": [
        "a ='인천정보산업고등학교 '\n",
        "b = '전산과 '\n",
        "print(a * 3)\n",
        "print(b * 3)\n",
        "print(a + b)\n",
        "print(a, b)\n",
        "print(type(a))"
      ],
      "execution_count": 5,
      "outputs": [
        {
          "output_type": "stream",
          "text": [
            "인천정보산업고등학교 인천정보산업고등학교 인천정보산업고등학교 \n",
            "전산과 전산과 전산과 \n",
            "인천정보산업고등학교 전산과 \n",
            "인천정보산업고등학교  전산과 \n",
            "<class 'str'>\n"
          ],
          "name": "stdout"
        }
      ]
    },
    {
      "cell_type": "markdown",
      "metadata": {
        "id": "DnHX3tz-VsFW",
        "colab_type": "text"
      },
      "source": [
        "[연습문제]4칙 연산 출력하기\n",
        "\n",
        "---\n",
        "\n",
        "```\n",
        "# 다음과 같이 출력해보세요\n",
        "a = 10 , b = 2\n",
        "a + b = 12.5\n",
        "a - b = ...\n",
        "a * b = \n",
        "a ** b = \n",
        "a / b = \n",
        "a // b = \n",
        "a % b = \n",
        "```"
      ]
    },
    {
      "cell_type": "code",
      "metadata": {
        "id": "-ol_7LTzWjCh",
        "colab_type": "code",
        "outputId": "f89f7bc9-470b-4e15-fe51-f332d4a17d80",
        "colab": {
          "base_uri": "https://localhost:8080/",
          "height": 52
        }
      },
      "source": [
        "a = 10\n",
        "b = 2\n",
        "print('a = ', a, ',', ' b =', b)\n",
        "print('a + b = ', a+b)\n"
      ],
      "execution_count": 2,
      "outputs": [
        {
          "output_type": "stream",
          "text": [
            "a =  10 ,  b = 2\n",
            "a + b =  12\n"
          ],
          "name": "stdout"
        }
      ]
    }
  ]
}